{
 "cells": [
  {
   "cell_type": "markdown",
   "id": "40356ae5",
   "metadata": {},
   "source": [
    "## Python Programming Assignment #1\n"
   ]
  },
  {
   "cell_type": "markdown",
   "id": "b4e6695a",
   "metadata": {},
   "source": [
    "#### Question #1\n",
    "Write a Python program to print \"Hello Python\"?"
   ]
  },
  {
   "cell_type": "code",
   "execution_count": 3,
   "id": "aa18f090",
   "metadata": {},
   "outputs": [
    {
     "name": "stdout",
     "output_type": "stream",
     "text": [
      "Hello Python\n"
     ]
    }
   ],
   "source": [
    " print(\"Hello Python\")"
   ]
  },
  {
   "cell_type": "code",
   "execution_count": null,
   "id": "4fdaf105",
   "metadata": {},
   "outputs": [],
   "source": []
  },
  {
   "cell_type": "markdown",
   "id": "154bbaa8",
   "metadata": {},
   "source": [
    "#### Question #2\n",
    "Write a Python program to do arithmetical operations addition and division"
   ]
  },
  {
   "cell_type": "code",
   "execution_count": 6,
   "id": "2ffddb7c",
   "metadata": {},
   "outputs": [
    {
     "name": "stdout",
     "output_type": "stream",
     "text": [
      "a+b = 105\n",
      "a*b = 500\n"
     ]
    }
   ],
   "source": [
    "a = 100\n",
    "b = 5\n",
    " \n",
    "print(\"a+b =\", a + b)\n",
    "print(\"a*b =\", a * b)\n"
   ]
  },
  {
   "cell_type": "code",
   "execution_count": null,
   "id": "c31570be",
   "metadata": {},
   "outputs": [],
   "source": []
  },
  {
   "cell_type": "markdown",
   "id": "f28a55fd",
   "metadata": {},
   "source": [
    "#### Question #3\n",
    " Write a Python program to find the area of a triangle\n"
   ]
  },
  {
   "cell_type": "code",
   "execution_count": 10,
   "id": "564671a3",
   "metadata": {},
   "outputs": [
    {
     "name": "stdout",
     "output_type": "stream",
     "text": [
      "The area of the triangle is: 58.79\n"
     ]
    }
   ],
   "source": [
    "# We'll use the formula Area = (s*(s-a)*(s-b)*(s-c)) ** 0.5\n",
    "\n",
    "def calc_triangle_area(s1, s2, s3):\n",
    "    # calculate the triangle semi perimeter \n",
    "    sp = (s1 + s2 + s3) / 2  \n",
    "    #calculate the trinagle area\n",
    "    area = (sp*(sp - s1)*(sp - s2)*(sp - s3)) ** 0.5  \n",
    "    \n",
    "    return area\n",
    "\n",
    "\n",
    "print('The area of the triangle is: %0.2f' %calc_triangle_area(10, 12, 14))"
   ]
  },
  {
   "cell_type": "markdown",
   "id": "43fda8c6",
   "metadata": {},
   "source": [
    "#### Question #4\n",
    "Write a Python program to swap two variables"
   ]
  },
  {
   "cell_type": "code",
   "execution_count": 17,
   "id": "f16584f6",
   "metadata": {},
   "outputs": [
    {
     "name": "stdout",
     "output_type": "stream",
     "text": [
      "values before call\n",
      "v1 =  100\n",
      "v2 =  200\n",
      "\n",
      "values after call\n",
      "v1 =  200\n",
      "v2 =  100\n"
     ]
    }
   ],
   "source": [
    "def swap_2_variables(var1, var2):\n",
    "    temp = var1\n",
    "    var1 = var2\n",
    "    var2 = temp\n",
    "    \n",
    "    return var1, var2\n",
    "\n",
    "v1 = 100\n",
    "v2 = 200\n",
    "print(\"values before call\")\n",
    "print('v1 = ',v1)\n",
    "print('v2 = ', v2)\n",
    "\n",
    "v1,v2 = swap_2_variables(v1, v2)\n",
    "print(\"\\nvalues after call\")\n",
    "print('v1 = ',v1)\n",
    "print('v2 = ', v2)"
   ]
  },
  {
   "cell_type": "markdown",
   "id": "02916eaf",
   "metadata": {},
   "source": [
    "#### Question #5\n",
    "Write a Python program to generate a random number"
   ]
  },
  {
   "cell_type": "markdown",
   "id": "9ec67133",
   "metadata": {},
   "source": [
    " "
   ]
  },
  {
   "cell_type": "code",
   "execution_count": 20,
   "id": "24d3ee8a",
   "metadata": {},
   "outputs": [
    {
     "name": "stdout",
     "output_type": "stream",
     "text": [
      "A random number from range [0-100] is : 14\n"
     ]
    }
   ],
   "source": [
    "import random as rnd\n",
    "\n",
    "# using \n",
    "print(\"A random number from range [0-100] is : \", end=\"\")\n",
    "print(rnd.randrange(0, 100))\n"
   ]
  },
  {
   "cell_type": "code",
   "execution_count": null,
   "id": "316e569b",
   "metadata": {},
   "outputs": [],
   "source": []
  }
 ],
 "metadata": {
  "kernelspec": {
   "display_name": "Python 3 (ipykernel)",
   "language": "python",
   "name": "python3"
  },
  "language_info": {
   "codemirror_mode": {
    "name": "ipython",
    "version": 3
   },
   "file_extension": ".py",
   "mimetype": "text/x-python",
   "name": "python",
   "nbconvert_exporter": "python",
   "pygments_lexer": "ipython3",
   "version": "3.9.7"
  }
 },
 "nbformat": 4,
 "nbformat_minor": 5
}
