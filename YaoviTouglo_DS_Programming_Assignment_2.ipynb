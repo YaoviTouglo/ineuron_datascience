{
 "cells": [
  {
   "cell_type": "markdown",
   "id": "40356ae5",
   "metadata": {},
   "source": [
    "## Python Programming Assignment #2\n",
    "\n"
   ]
  },
  {
   "cell_type": "markdown",
   "id": "b4e6695a",
   "metadata": {},
   "source": [
    "#### Question #1\n",
    "Write a Python program to convert kilometers to miles"
   ]
  },
  {
   "cell_type": "code",
   "execution_count": 27,
   "id": "aa18f090",
   "metadata": {},
   "outputs": [
    {
     "name": "stdout",
     "output_type": "stream",
     "text": [
      "10.000 kilometers = 6.214 miles\n"
     ]
    }
   ],
   "source": [
    "def convert_km_to_miles(km):\n",
    "    # convert kilometers to miles\n",
    "    c = 0.62137\n",
    "    return c * km\n",
    "\n",
    "km = 10\n",
    "print('%0.3f kilometers = %0.3f miles' %(km , convert_km_to_miles(km)))\n",
    " "
   ]
  },
  {
   "cell_type": "code",
   "execution_count": null,
   "id": "4fdaf105",
   "metadata": {},
   "outputs": [],
   "source": []
  },
  {
   "cell_type": "markdown",
   "id": "154bbaa8",
   "metadata": {},
   "source": [
    "#### Question #2\n",
    "Write a Python program to convert Celsius to Fahrenheit"
   ]
  },
  {
   "cell_type": "code",
   "execution_count": 25,
   "id": "2ffddb7c",
   "metadata": {},
   "outputs": [
    {
     "name": "stdout",
     "output_type": "stream",
     "text": [
      "10.000 Celsius = 50.000 Fahrenheit\n"
     ]
    }
   ],
   "source": [
    "def convert_celsius_to_fahrenheit(celcius):\n",
    "    fahrenheit = (celsius * 1.8) + 32\n",
    "    return fahrenheit\n",
    "    \n",
    "    \n",
    "celsius = 10\n",
    "print('%0.3f Celsius = %0.3f Fahrenheit' %(celsius , convert_celsius_to_fahrenheit(celsius)))\n",
    " "
   ]
  },
  {
   "cell_type": "code",
   "execution_count": null,
   "id": "c31570be",
   "metadata": {},
   "outputs": [],
   "source": []
  },
  {
   "cell_type": "markdown",
   "id": "f28a55fd",
   "metadata": {},
   "source": [
    "#### Question #3\n",
    "Write a Python program to display calendar\n"
   ]
  },
  {
   "cell_type": "code",
   "execution_count": 49,
   "id": "564671a3",
   "metadata": {},
   "outputs": [
    {
     "name": "stdout",
     "output_type": "stream",
     "text": [
      "                                  2022\n",
      "\n",
      "      January                   February                   March\n",
      "Mo Tu We Th Fr Sa Su      Mo Tu We Th Fr Sa Su      Mo Tu We Th Fr Sa Su\n",
      "                1  2          1  2  3  4  5  6          1  2  3  4  5  6\n",
      " 3  4  5  6  7  8  9       7  8  9 10 11 12 13       7  8  9 10 11 12 13\n",
      "10 11 12 13 14 15 16      14 15 16 17 18 19 20      14 15 16 17 18 19 20\n",
      "17 18 19 20 21 22 23      21 22 23 24 25 26 27      21 22 23 24 25 26 27\n",
      "24 25 26 27 28 29 30      28                        28 29 30 31\n",
      "31\n",
      "\n",
      "       April                      May                       June\n",
      "Mo Tu We Th Fr Sa Su      Mo Tu We Th Fr Sa Su      Mo Tu We Th Fr Sa Su\n",
      "             1  2  3                         1             1  2  3  4  5\n",
      " 4  5  6  7  8  9 10       2  3  4  5  6  7  8       6  7  8  9 10 11 12\n",
      "11 12 13 14 15 16 17       9 10 11 12 13 14 15      13 14 15 16 17 18 19\n",
      "18 19 20 21 22 23 24      16 17 18 19 20 21 22      20 21 22 23 24 25 26\n",
      "25 26 27 28 29 30         23 24 25 26 27 28 29      27 28 29 30\n",
      "                          30 31\n",
      "\n",
      "        July                     August                  September\n",
      "Mo Tu We Th Fr Sa Su      Mo Tu We Th Fr Sa Su      Mo Tu We Th Fr Sa Su\n",
      "             1  2  3       1  2  3  4  5  6  7                1  2  3  4\n",
      " 4  5  6  7  8  9 10       8  9 10 11 12 13 14       5  6  7  8  9 10 11\n",
      "11 12 13 14 15 16 17      15 16 17 18 19 20 21      12 13 14 15 16 17 18\n",
      "18 19 20 21 22 23 24      22 23 24 25 26 27 28      19 20 21 22 23 24 25\n",
      "25 26 27 28 29 30 31      29 30 31                  26 27 28 29 30\n",
      "\n",
      "      October                   November                  December\n",
      "Mo Tu We Th Fr Sa Su      Mo Tu We Th Fr Sa Su      Mo Tu We Th Fr Sa Su\n",
      "                1  2          1  2  3  4  5  6                1  2  3  4\n",
      " 3  4  5  6  7  8  9       7  8  9 10 11 12 13       5  6  7  8  9 10 11\n",
      "10 11 12 13 14 15 16      14 15 16 17 18 19 20      12 13 14 15 16 17 18\n",
      "17 18 19 20 21 22 23      21 22 23 24 25 26 27      19 20 21 22 23 24 25\n",
      "24 25 26 27 28 29 30      28 29 30                  26 27 28 29 30 31\n",
      "31\n",
      "\n"
     ]
    }
   ],
   "source": [
    "import calendar\n",
    "\n",
    "cal = calendar.calendar(2022,2,1,6)\n",
    "print(cal)"
   ]
  },
  {
   "cell_type": "markdown",
   "id": "43fda8c6",
   "metadata": {},
   "source": [
    "#### Question #4\n",
    "Write a Python program to solve quadratic equation"
   ]
  },
  {
   "cell_type": "code",
   "execution_count": 23,
   "id": "f16584f6",
   "metadata": {},
   "outputs": [
    {
     "name": "stdout",
     "output_type": "stream",
     "text": [
      "The roots of the equation are: \n",
      "solution #1 = 0.0\n",
      "solution #2 = -5.0\n"
     ]
    }
   ],
   "source": [
    "import math\n",
    "\n",
    "# ax2 + bx + c\n",
    "# where,\n",
    "# a, b, and c are coefficient and real numbers and also a ≠ 0.\n",
    "\n",
    "def equationroots( a, b, c): \n",
    "  \n",
    "    # calculate the discriminant \n",
    "    d = b * b - 4 * a * c \n",
    "    sqrt_val = math.sqrt(abs(d)) \n",
    "      \n",
    "    # check  condition for the discriminant\n",
    "    if d > 0: \n",
    "        # find two solutions\n",
    "        msg = \"The roots of the equation are: \"\n",
    "        sol1 = (-b + sqrt_val)/(2 * a) \n",
    "        sol2 = ((-b - sqrt_val)/(2 * a)) \n",
    "      \n",
    "    elif d == 0: \n",
    "        msg = \"Real and same roots\"\n",
    "        sol1 = (-b / (2 * a)) \n",
    "        sol2 = None\n",
    "    \n",
    "    # when discriminant is less than 0\n",
    "    else:\n",
    "        msg = \"Complex Roots\" \n",
    "        sol1 = (- b / (2 * a), \" + i\", sqrt_val) \n",
    "        sol2 = (- b / (2 * a), \" - i\", sqrt_val) \n",
    "      \n",
    "    return msg, sol1, sol2\n",
    "\n",
    "\n",
    "\n",
    "\n",
    "        \n",
    "a = 1\n",
    "b = 5\n",
    "c = 0\n",
    "\n",
    "msg, s1, s2  = equationroots( a, b, c)\n",
    "\n",
    "print(msg)\n",
    "print(\"solution #1 =\", s1)\n",
    "print(\"solution #2 =\", s2)"
   ]
  },
  {
   "cell_type": "code",
   "execution_count": null,
   "id": "885aa8d4",
   "metadata": {},
   "outputs": [],
   "source": []
  },
  {
   "cell_type": "markdown",
   "id": "02916eaf",
   "metadata": {},
   "source": [
    "#### Question #5\n",
    "Write a Python program to swap two variables without temp variable"
   ]
  },
  {
   "cell_type": "code",
   "execution_count": 3,
   "id": "82da4fc7",
   "metadata": {},
   "outputs": [
    {
     "name": "stdout",
     "output_type": "stream",
     "text": [
      "values before swap\n",
      "----------------\n",
      "val1 = 100 val2 = 999\n",
      "\n",
      "values after swap\n",
      "----------------\n",
      "val1 = 999 val2 = 100\n"
     ]
    }
   ],
   "source": [
    "def swap_2_variables(v1, v2):\n",
    "    list = [v1, v2]\n",
    "    v1, v2 = list\n",
    "    #swap the elements in the list\n",
    "    v1, v2 = list[::-1]\n",
    "    \n",
    "    return v1, v2\n",
    "\n",
    "\n",
    "\n",
    "\n",
    "\n",
    "val1 = 100\n",
    "val2 = 999\n",
    "\n",
    "print('values before swap')\n",
    "print('----------------')\n",
    "print('val1 =', val1, 'val2 =', val2)\n",
    "\n",
    "val1, val2 = swap_2_variables(val1, val2)\n",
    "\n",
    "print('\\nvalues after swap')\n",
    "print('----------------')\n",
    "print('val1 =', val1, 'val2 =', val2)"
   ]
  },
  {
   "cell_type": "code",
   "execution_count": null,
   "id": "9314aba8",
   "metadata": {},
   "outputs": [],
   "source": []
  },
  {
   "cell_type": "code",
   "execution_count": null,
   "id": "24d3ee8a",
   "metadata": {},
   "outputs": [],
   "source": []
  },
  {
   "cell_type": "code",
   "execution_count": null,
   "id": "316e569b",
   "metadata": {},
   "outputs": [],
   "source": []
  }
 ],
 "metadata": {
  "kernelspec": {
   "display_name": "Python 3 (ipykernel)",
   "language": "python",
   "name": "python3"
  },
  "language_info": {
   "codemirror_mode": {
    "name": "ipython",
    "version": 3
   },
   "file_extension": ".py",
   "mimetype": "text/x-python",
   "name": "python",
   "nbconvert_exporter": "python",
   "pygments_lexer": "ipython3",
   "version": "3.9.7"
  }
 },
 "nbformat": 4,
 "nbformat_minor": 5
}
