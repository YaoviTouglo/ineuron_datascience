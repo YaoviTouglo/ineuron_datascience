{
 "cells": [
  {
   "cell_type": "markdown",
   "id": "40356ae5",
   "metadata": {},
   "source": [
    "## Python Programming Assignment #4\n"
   ]
  },
  {
   "cell_type": "markdown",
   "id": "b4e6695a",
   "metadata": {},
   "source": [
    "#### Question #1\n",
    " 1.\tWrite a Python Program to Find the Factorial of a Number"
   ]
  },
  {
   "cell_type": "code",
   "execution_count": 1,
   "id": "aa18f090",
   "metadata": {},
   "outputs": [
    {
     "name": "stdout",
     "output_type": "stream",
     "text": [
      "input\n",
      "--------\n",
      " 10\n",
      "\n",
      " factorial\n",
      "--------\n",
      " 3628800\n"
     ]
    }
   ],
   "source": [
    "def get_factorial(n):\n",
    "    f = 1\n",
    "    for i in range(1, n+1):\n",
    "        f *= i \n",
    "    return f\n",
    "\n",
    "\n",
    "x = 10\n",
    "print(\"input\\n--------\\n\", x)\n",
    "print(\"\\n\",\"factorial\\n--------\\n\",get_factorial(x))"
   ]
  },
  {
   "cell_type": "code",
   "execution_count": null,
   "id": "4fdaf105",
   "metadata": {},
   "outputs": [],
   "source": []
  },
  {
   "cell_type": "markdown",
   "id": "154bbaa8",
   "metadata": {},
   "source": [
    "#### Question #2\n",
    "2.\tWrite a Python Program to Display the multiplication Table"
   ]
  },
  {
   "cell_type": "code",
   "execution_count": 2,
   "id": "2ffddb7c",
   "metadata": {},
   "outputs": [
    {
     "name": "stdout",
     "output_type": "stream",
     "text": [
      "1 x 5 = 5\n",
      "2 x 5 = 10\n",
      "3 x 5 = 15\n",
      "4 x 5 = 20\n",
      "5 x 5 = 25\n",
      "6 x 5 = 30\n",
      "7 x 5 = 35\n",
      "8 x 5 = 40\n",
      "9 x 5 = 45\n",
      "10 x 5 = 50\n",
      "11 x 5 = 55\n",
      "12 x 5 = 60\n"
     ]
    }
   ],
   "source": [
    "def multiple(x, y):\n",
    "    l = []\n",
    "    for i in range(1, y + 1):\n",
    "        s = f\"{i} x {x} = {x*i}\"\n",
    "        l.append(s)\n",
    "    return l    \n",
    "        \n",
    "    \n",
    "    \n",
    "table = 5\n",
    "row = 12\n",
    "l = multiple(table, row)\n",
    "for i in l:\n",
    "    print(i) "
   ]
  },
  {
   "cell_type": "code",
   "execution_count": null,
   "id": "c31570be",
   "metadata": {},
   "outputs": [],
   "source": []
  },
  {
   "cell_type": "markdown",
   "id": "f28a55fd",
   "metadata": {},
   "source": [
    "#### Question #3\n",
    "3.\tWrite a Python Program to Print the Fibonacci sequence\n"
   ]
  },
  {
   "cell_type": "code",
   "execution_count": 3,
   "id": "564671a3",
   "metadata": {},
   "outputs": [
    {
     "name": "stdout",
     "output_type": "stream",
     "text": [
      "input\n",
      "--------\n",
      " 10\n",
      "\n",
      " fibonacci\n",
      "--------\n",
      " [1, 1, 2, 3, 5, 8, 13, 21, 34, 55]\n"
     ]
    }
   ],
   "source": [
    "def get_fibonacci(x):\n",
    "    a = 1\n",
    "    b = 1 \n",
    "    l = []\n",
    "    \n",
    "    for i in range(x): \n",
    "        l.append(a)\n",
    "        a, b = b, a+b\n",
    "    return l\n",
    "\n",
    "x = 10\n",
    "print(\"input\\n--------\\n\", x)\n",
    "print(\"\\n\",\"fibonacci\\n--------\\n\",get_fibonacci(x)) "
   ]
  },
  {
   "cell_type": "markdown",
   "id": "43fda8c6",
   "metadata": {},
   "source": [
    "#### Question #4\n",
    "4.\tWrite a Python Program to Check Armstrong Number"
   ]
  },
  {
   "cell_type": "code",
   "execution_count": 4,
   "id": "f16584f6",
   "metadata": {},
   "outputs": [
    {
     "name": "stdout",
     "output_type": "stream",
     "text": [
      "\n",
      " 100 is Amstrong Number?\n",
      "------------------------\n",
      " False\n",
      "\n",
      " 153 is Amstrong Number?\n",
      "------------------------\n",
      " True\n"
     ]
    }
   ],
   "source": [
    "# Calculate the order of a number\n",
    "def get_num_order(n):\n",
    "    d = 0\n",
    "    while (n != 0):\n",
    "        d += 1\n",
    "        n = n // 10 \n",
    "        \n",
    "    return d\n",
    " \n",
    "# Check if a number is Amstrong number\n",
    "def is_amstrong_number(x):\n",
    "    x2 = x\n",
    "    n = get_num_order(x2)\n",
    "    \n",
    "    sum = 0\n",
    "    while(x2 != 0):\n",
    "        r = x2 % 10\n",
    "        sum += pow(r, n)\n",
    "        x2 //= 10\n",
    "        \n",
    "    return (sum == x)\n",
    "    \n",
    "    \n",
    "#function calls\n",
    "x = 100 \n",
    "print(\"\\n\",f\"{x} is Amstrong Number?\\n------------------------\\n\",is_amstrong_number(x))  \n",
    "\n",
    "x = 153 \n",
    "print(\"\\n\",f\"{x} is Amstrong Number?\\n------------------------\\n\",is_amstrong_number(x))  \n"
   ]
  },
  {
   "cell_type": "code",
   "execution_count": null,
   "id": "a5246502",
   "metadata": {},
   "outputs": [],
   "source": []
  },
  {
   "cell_type": "markdown",
   "id": "02916eaf",
   "metadata": {},
   "source": [
    "#### Question #5\n",
    "5.\tWrite a Python Program to Find Armstrong Number in an Interval"
   ]
  },
  {
   "cell_type": "code",
   "execution_count": 17,
   "id": "24d3ee8a",
   "metadata": {},
   "outputs": [
    {
     "name": "stdout",
     "output_type": "stream",
     "text": [
      "\n",
      "Number Interval\n",
      "----------------\n",
      "[150..160]\n",
      "\n",
      "Amstrong Numbers\n",
      "----------------\n",
      "153 : True\n",
      "\n",
      "Non Amstrong Numbers\n",
      "----------------\n",
      "150 : False\n",
      "151 : False\n",
      "152 : False\n",
      "154 : False\n",
      "155 : False\n",
      "156 : False\n",
      "157 : False\n",
      "158 : False\n",
      "159 : False\n",
      "160 : False\n"
     ]
    }
   ],
   "source": [
    "# Calculate the order of a number\n",
    "def get_num_order(n):\n",
    "    d = 0\n",
    "    while (n != 0):\n",
    "        d += 1\n",
    "        n = n // 10 \n",
    "        \n",
    "    return d\n",
    " \n",
    "# Check if a number is Amstrong number\n",
    "def is_amstrong_number(x):\n",
    "    x2 = x\n",
    "    n = get_num_order(x2)\n",
    "    \n",
    "    sum = 0\n",
    "    while(x2 != 0):\n",
    "        r = x2 % 10\n",
    "        sum += pow(r, n)\n",
    "        x2 //= 10\n",
    "        \n",
    "    return (sum == x)\n",
    "\n",
    "# Find Amstrong numbers in an interval\n",
    "def get_amstrong_num(lbound, ubound):\n",
    "    a_list = []\n",
    "    na_list = []\n",
    "    \n",
    "    for i in range(lbound, ubound + 1):\n",
    "        if is_amstrong_number(i):\n",
    "            a_list.append(f\"{i} : {is_amstrong_number(i)}\")\n",
    "        else:\n",
    "            na_list.append(f\"{i} : {is_amstrong_number(i)}\")\n",
    "        \n",
    "    return a_list, na_list\n",
    "\n",
    "l_bound = 150\n",
    "u_bound = 160\n",
    "\n",
    "a_list, na_list = get_amstrong_num(l_bound, u_bound)\n",
    "\n",
    "print(\"\\nNumber Interval\\n----------------\")\n",
    "print(f\"[{l_bound}..{u_bound}]\") \n",
    "    \n",
    "print(\"\\nAmstrong Numbers\\n----------------\")\n",
    "for i in a_list:\n",
    "    print(i) \n",
    "\n",
    "print(\"\\nNon Amstrong Numbers\\n----------------\")    \n",
    "for i in na_list:\n",
    "    print(i)"
   ]
  },
  {
   "cell_type": "code",
   "execution_count": null,
   "id": "316e569b",
   "metadata": {},
   "outputs": [],
   "source": []
  },
  {
   "cell_type": "markdown",
   "id": "44096dfe",
   "metadata": {},
   "source": [
    "#### Question #6\n",
    "6.\tWrite a Python Program to Find the Sum of Natural Numbers"
   ]
  },
  {
   "cell_type": "code",
   "execution_count": 18,
   "id": "5a0557d3",
   "metadata": {},
   "outputs": [
    {
     "name": "stdout",
     "output_type": "stream",
     "text": [
      "55\n"
     ]
    }
   ],
   "source": [
    "def sum_nat_num(x):\n",
    "    sum = 0\n",
    "    for i in range(x+1):\n",
    "        sum += i\n",
    "    return sum\n",
    "\n",
    "n = 10\n",
    "print(sum_nat_num(n))"
   ]
  },
  {
   "cell_type": "code",
   "execution_count": null,
   "id": "1abf7557",
   "metadata": {},
   "outputs": [],
   "source": []
  }
 ],
 "metadata": {
  "kernelspec": {
   "display_name": "Python 3 (ipykernel)",
   "language": "python",
   "name": "python3"
  },
  "language_info": {
   "codemirror_mode": {
    "name": "ipython",
    "version": 3
   },
   "file_extension": ".py",
   "mimetype": "text/x-python",
   "name": "python",
   "nbconvert_exporter": "python",
   "pygments_lexer": "ipython3",
   "version": "3.9.7"
  }
 },
 "nbformat": 4,
 "nbformat_minor": 5
}
