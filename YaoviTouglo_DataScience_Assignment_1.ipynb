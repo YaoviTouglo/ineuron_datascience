{
 "cells": [
  {
   "cell_type": "markdown",
   "id": "50dcd335",
   "metadata": {},
   "source": [
    "## Assignment #1"
   ]
  },
  {
   "cell_type": "markdown",
   "id": "4d8cebc9",
   "metadata": {},
   "source": [
    "### Question #1 "
   ]
  },
  {
   "cell_type": "raw",
   "id": "51c2d853",
   "metadata": {},
   "source": [
    " In the below elements which of them are values or an expression? \n",
    "eg:- values can be integer or string and expressions will be mathematical operators.\n",
    "\n",
    "* \n",
    " 'hello'\n",
    " -87.8\n",
    " - \n",
    " / \n",
    " +\t\n",
    " 6 \n",
    " "
   ]
  },
  {
   "cell_type": "markdown",
   "id": "af724fab",
   "metadata": {},
   "source": [
    "##### Answer\n",
    "\\*        .......... expression <br/>\n",
    "'hello'   ..........  value <br/>\n",
    "-87.8   ............  value <br/>\n",
    "\\-        .......... expression <br/>\n",
    "\\/       ........... expression <br/>\n",
    "\\+        .......... expression <br/>\n",
    "6      ............. value <br/>"
   ]
  },
  {
   "cell_type": "markdown",
   "id": "78f01e1f",
   "metadata": {},
   "source": [
    "\n"
   ]
  },
  {
   "cell_type": "markdown",
   "id": "4ab46028",
   "metadata": {},
   "source": [
    "### Question #2  \n",
    "What is the difference between string and variable?"
   ]
  },
  {
   "cell_type": "markdown",
   "id": "f11e772f",
   "metadata": {},
   "source": [
    "##### Answer\n",
    "1. string - is a data type <br/>\n",
    "2. variable - is a named memory location to store data"
   ]
  },
  {
   "cell_type": "code",
   "execution_count": null,
   "id": "8c57d200",
   "metadata": {},
   "outputs": [],
   "source": []
  },
  {
   "cell_type": "markdown",
   "id": "54ac6831",
   "metadata": {},
   "source": [
    "### Question #3  \n",
    "Describe three different data types."
   ]
  },
  {
   "cell_type": "markdown",
   "id": "e42e1b60",
   "metadata": {},
   "source": [
    " ##### Answer\n",
    " 1. integer - a whole number. A number that is not a fraction. ExampleL 5 <br/>\n",
    " 2. float - a number with a decimal point <br/>\n",
    " 3. string - it is a sequence of unicode characters"
   ]
  },
  {
   "cell_type": "code",
   "execution_count": null,
   "id": "a90a920c",
   "metadata": {},
   "outputs": [],
   "source": []
  },
  {
   "cell_type": "markdown",
   "id": "d0966b93",
   "metadata": {},
   "source": [
    "### Question #4  \n",
    "What is an expression made up of? What do all expressions do?"
   ]
  },
  {
   "cell_type": "markdown",
   "id": "7668ce32",
   "metadata": {},
   "source": [
    "##### Answer\n",
    "1. An expression is a representation of a value\n",
    "2. Expressions combine variables, constants, operators, and functions to create a value<br/>"
   ]
  },
  {
   "cell_type": "code",
   "execution_count": null,
   "id": "5c84b265",
   "metadata": {},
   "outputs": [],
   "source": []
  },
  {
   "cell_type": "markdown",
   "id": "faa2ab7d",
   "metadata": {},
   "source": [
    "### Question #5  \n",
    "This assignment statements, like spam = 10. What is the difference between an expression and a statement?"
   ]
  },
  {
   "cell_type": "markdown",
   "id": "349488c5",
   "metadata": {},
   "source": [
    "##### Answer\n",
    "1. An expression is a representation of a value<br/>\n",
    "2. A statement does something. In this example, the value 10 is assigned to the variable spam."
   ]
  },
  {
   "cell_type": "code",
   "execution_count": null,
   "id": "4c5a1a7a",
   "metadata": {},
   "outputs": [],
   "source": []
  },
  {
   "cell_type": "markdown",
   "id": "d3721902",
   "metadata": {},
   "source": [
    "### Question #6  \n",
    "After running the following code, what does the variable bacon contain?<br/>\n",
    "bacon = 22<br/>\n",
    "bacon + 1\n"
   ]
  },
  {
   "cell_type": "markdown",
   "id": "4dc5738c",
   "metadata": {},
   "source": [
    "##### Answer\n",
    "the variable bacon will contain 22, because th statement bacon + 1 will not change the value of the variable bacon"
   ]
  },
  {
   "cell_type": "code",
   "execution_count": 1,
   "id": "d1b3bc7b",
   "metadata": {},
   "outputs": [
    {
     "name": "stdout",
     "output_type": "stream",
     "text": [
      "22\n"
     ]
    }
   ],
   "source": [
    "bacon = 22\n",
    "bacon + 1\n",
    "print(bacon)"
   ]
  },
  {
   "cell_type": "code",
   "execution_count": null,
   "id": "717d5eda",
   "metadata": {},
   "outputs": [],
   "source": []
  },
  {
   "cell_type": "markdown",
   "id": "ff95c84d",
   "metadata": {},
   "source": [
    "### Question #7\n",
    "What should the values of the following two terms be? <br/>\n",
    "'spam' + 'spamspam' <br/>\n",
    "'spam' * 3\n"
   ]
  },
  {
   "cell_type": "markdown",
   "id": "889b8cb4",
   "metadata": {},
   "source": [
    "##### Answer\n",
    "1. 'spam' + 'spamspam' will be 'spamspamspam',<br/>\n",
    "2. 'spam' * 3 will be 'spamspamspam'"
   ]
  },
  {
   "cell_type": "code",
   "execution_count": 2,
   "id": "c09ba24c",
   "metadata": {},
   "outputs": [
    {
     "name": "stdout",
     "output_type": "stream",
     "text": [
      "spamspamspam\n",
      "spamspamspam\n"
     ]
    }
   ],
   "source": [
    "print('spam' + 'spamspam')\n",
    "print('spam'*3)"
   ]
  },
  {
   "cell_type": "code",
   "execution_count": null,
   "id": "d04f18a6",
   "metadata": {},
   "outputs": [],
   "source": []
  },
  {
   "cell_type": "markdown",
   "id": "0e08b8c5",
   "metadata": {},
   "source": [
    "### Question #8  \n",
    "Why is eggs a valid variable name while 100 is invalid?\n"
   ]
  },
  {
   "cell_type": "markdown",
   "id": "60e508ee",
   "metadata": {},
   "source": [
    "##### Answer\n",
    "Per Python rules, variable names cannot start with a number, but can start with a letter.\n"
   ]
  },
  {
   "cell_type": "code",
   "execution_count": null,
   "id": "4f08361b",
   "metadata": {},
   "outputs": [],
   "source": []
  },
  {
   "cell_type": "markdown",
   "id": "76e588c2",
   "metadata": {},
   "source": [
    "### Question #9  \n",
    "What three functions can be used to get the integer, floating-point number, or string version of a value?\n",
    "\n",
    "##### Answer"
   ]
  },
  {
   "cell_type": "markdown",
   "id": "68e26381",
   "metadata": {},
   "source": [
    "use <b>int()</b> to convert to integer <br/>\n",
    "use <b>float()</b> to convert to float <br/>\n",
    "use <b>str()</b> to convert to string <br/>"
   ]
  },
  {
   "cell_type": "code",
   "execution_count": 3,
   "id": "737146cf",
   "metadata": {},
   "outputs": [
    {
     "name": "stdout",
     "output_type": "stream",
     "text": [
      "20\n",
      "10.0\n",
      "10\n"
     ]
    }
   ],
   "source": [
    "a = 10\n",
    "b = '20'\n",
    "\n",
    "print(int(b))\n",
    "print(float(a))\n",
    "print(str(a))"
   ]
  },
  {
   "cell_type": "code",
   "execution_count": null,
   "id": "16b6ef61",
   "metadata": {},
   "outputs": [],
   "source": []
  },
  {
   "cell_type": "markdown",
   "id": "5149820a",
   "metadata": {},
   "source": [
    "###  Question #10  \n",
    "Why does this expression cause an error? How can you fix it?<br/> \n",
    "'I have eaten ' + 99 + ' burritos.'\n"
   ]
  },
  {
   "cell_type": "markdown",
   "id": "0bad1f68",
   "metadata": {},
   "source": [
    "##### Answer\n",
    "1. the given expression will cause an error, because 99 is a number, not a string. A string cannot be concatenated with a number.\n",
    "2. To fix this, 99 must be changed to \"99\" or '99'"
   ]
  },
  {
   "cell_type": "code",
   "execution_count": 4,
   "id": "a1bff2e9",
   "metadata": {},
   "outputs": [
    {
     "ename": "TypeError",
     "evalue": "can only concatenate str (not \"int\") to str",
     "output_type": "error",
     "traceback": [
      "\u001b[1;31m---------------------------------------------------------------------------\u001b[0m",
      "\u001b[1;31mTypeError\u001b[0m                                 Traceback (most recent call last)",
      "\u001b[1;32m~\\AppData\\Local\\Temp/ipykernel_9548/1830233853.py\u001b[0m in \u001b[0;36m<module>\u001b[1;34m\u001b[0m\n\u001b[1;32m----> 1\u001b[1;33m \u001b[0mprint\u001b[0m\u001b[1;33m(\u001b[0m\u001b[1;34m'I have eaten '\u001b[0m \u001b[1;33m+\u001b[0m \u001b[1;36m99\u001b[0m \u001b[1;33m+\u001b[0m \u001b[1;34m' burritos.'\u001b[0m\u001b[1;33m)\u001b[0m\u001b[1;33m\u001b[0m\u001b[1;33m\u001b[0m\u001b[0m\n\u001b[0m",
      "\u001b[1;31mTypeError\u001b[0m: can only concatenate str (not \"int\") to str"
     ]
    }
   ],
   "source": [
    "print('I have eaten ' + 99 + ' burritos.')"
   ]
  },
  {
   "cell_type": "code",
   "execution_count": 5,
   "id": "10fff31f",
   "metadata": {},
   "outputs": [
    {
     "name": "stdout",
     "output_type": "stream",
     "text": [
      "I have eaten 99 burritos.\n"
     ]
    }
   ],
   "source": [
    "print('I have eaten ' + '99' + ' burritos.')"
   ]
  },
  {
   "cell_type": "code",
   "execution_count": null,
   "id": "c39ee79b",
   "metadata": {},
   "outputs": [],
   "source": []
  },
  {
   "cell_type": "code",
   "execution_count": null,
   "id": "589bf71a",
   "metadata": {},
   "outputs": [],
   "source": []
  },
  {
   "cell_type": "code",
   "execution_count": null,
   "id": "90c93b24",
   "metadata": {},
   "outputs": [],
   "source": []
  }
 ],
 "metadata": {
  "kernelspec": {
   "display_name": "Python 3 (ipykernel)",
   "language": "python",
   "name": "python3"
  },
  "language_info": {
   "codemirror_mode": {
    "name": "ipython",
    "version": 3
   },
   "file_extension": ".py",
   "mimetype": "text/x-python",
   "name": "python",
   "nbconvert_exporter": "python",
   "pygments_lexer": "ipython3",
   "version": "3.9.7"
  }
 },
 "nbformat": 4,
 "nbformat_minor": 5
}
