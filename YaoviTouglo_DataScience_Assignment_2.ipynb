{
 "cells": [
  {
   "cell_type": "markdown",
   "id": "40356ae5",
   "metadata": {},
   "source": [
    "### Python Assignment #2"
   ]
  },
  {
   "cell_type": "markdown",
   "id": "b4e6695a",
   "metadata": {},
   "source": [
    "#### Question #1\n",
    "What are the two values of the Boolean data type? How do you write them?"
   ]
  },
  {
   "cell_type": "markdown",
   "id": "5b6526fd",
   "metadata": {},
   "source": [
    "True and False"
   ]
  },
  {
   "cell_type": "markdown",
   "id": "39da8451",
   "metadata": {},
   "source": [
    " "
   ]
  },
  {
   "cell_type": "markdown",
   "id": "154bbaa8",
   "metadata": {},
   "source": [
    "#### Question #2\n",
    "What are the three different types of Boolean operators?"
   ]
  },
  {
   "cell_type": "markdown",
   "id": "6aa1019e",
   "metadata": {},
   "source": [
    "or, and , not"
   ]
  },
  {
   "cell_type": "markdown",
   "id": "23313121",
   "metadata": {},
   "source": [
    " "
   ]
  },
  {
   "attachments": {},
   "cell_type": "markdown",
   "id": "f28a55fd",
   "metadata": {},
   "source": [
    "#### Question #3\n",
    " Make a list of each Boolean operator's truth tables (i.e. every possible combination of Boolean values for the operator and what it evaluate )\n"
   ]
  },
  {
   "attachments": {
    "image.png": {
     "image/png": "[encoded data removed]"
    }
   },
   "cell_type": "markdown",
   "id": "ce2d83c0",
   "metadata": {},
   "source": [
    "![image.png](attachment:image.png)"
   ]
  },
  {
   "cell_type": "markdown",
   "id": "56fbd5c2",
   "metadata": {},
   "source": []
  },
  {
   "cell_type": "markdown",
   "id": "43fda8c6",
   "metadata": {},
   "source": [
    "#### Question #4\n",
    "What are the values of the following expressions?</br>\n",
    "(5 > 4) and (3 == 5)                 = False</br>\n",
    "not (5 > 4)                          = False</br>\n",
    "(5 > 4) or (3 == 5)                  = True</br>\n",
    "not ((5 > 4) or (3 == 5))            = False</br>\n",
    "(True and True) and (True == False)  = False</br>\n",
    "(not False) or (not True)            = True</br>"
   ]
  },
  {
   "cell_type": "code",
   "execution_count": null,
   "id": "f16584f6",
   "metadata": {},
   "outputs": [],
   "source": []
  },
  {
   "cell_type": "markdown",
   "id": "02916eaf",
   "metadata": {},
   "source": [
    "#### Question #5\n",
    "What are the six comparison operators?"
   ]
  },
  {
   "cell_type": "markdown",
   "id": "9ec67133",
   "metadata": {},
   "source": [
    "==, !=, <, <=, >, >="
   ]
  },
  {
   "cell_type": "code",
   "execution_count": null,
   "id": "24d3ee8a",
   "metadata": {},
   "outputs": [],
   "source": []
  },
  {
   "cell_type": "markdown",
   "id": "5171307e",
   "metadata": {},
   "source": [
    "#### Question #6\n",
    "How do you tell the difference between the equal to and assignment operators?Describe a condition and when you would use one"
   ]
  },
  {
   "cell_type": "markdown",
   "id": "0646b7a0",
   "metadata": {},
   "source": [
    "a) The assignment operator (=) assigns a value to a variable.\n",
    "example: </br>\n",
    "    var1 = 10  # value 10 is assigned to the variable var1</br>\n",
    "    var2 = -5  # value -5 is assigned to the variable var2</br>\n",
    "    \n",
    "b) The equality comparison operator (==) compares two values</br>\n",
    "example:</br>\n",
    "    to check if var1 is equal to 10, we use var1 == 10</br>"
   ]
  },
  {
   "cell_type": "code",
   "execution_count": null,
   "id": "5b7d4357",
   "metadata": {},
   "outputs": [],
   "source": []
  },
  {
   "cell_type": "markdown",
   "id": "de2d487d",
   "metadata": {},
   "source": [
    "#### Question #7\n",
    "Identify the three blocks in this code:\n",
    "spam = 0</br>\n",
    "if spam == 10:</br>\n",
    "print('eggs')</br>\n",
    "if spam > 5:</br>\n",
    "print('bacon')</br>\n",
    "else:</br>\n",
    "print('ham')</br>\n",
    "print('spam')</br>\n",
    "print('spam')</br>\n"
   ]
  },
  {
   "cell_type": "code",
   "execution_count": 7,
   "id": "110bc82d",
   "metadata": {},
   "outputs": [
    {
     "name": "stdout",
     "output_type": "stream",
     "text": [
      "ham\n",
      "spam\n",
      "spam\n"
     ]
    }
   ],
   "source": [
    "#Block #1:\n",
    "spam = 0\n",
    "if spam == 10:\n",
    "    print('eggs')\n",
    "    \n",
    "#Block #2\n",
    "if spam > 5:\n",
    "    print('bacon')\n",
    "else:  #Block #3\n",
    "    print('ham')\n",
    "    print('spam')\n",
    "    print('spam')\n",
    "    "
   ]
  },
  {
   "cell_type": "code",
   "execution_count": null,
   "id": "602d2816",
   "metadata": {},
   "outputs": [],
   "source": []
  },
  {
   "cell_type": "markdown",
   "id": "3c9b064f",
   "metadata": {},
   "source": [
    "#### Question #8\n",
    "Write code that prints Hello if 1 is stored in spam, prints Howdy if 2 is stored in spam, and prints Greetings! if anything else is stored in spam."
   ]
  },
  {
   "cell_type": "code",
   "execution_count": null,
   "id": "5e2db06d",
   "metadata": {},
   "outputs": [],
   "source": []
  },
  {
   "cell_type": "code",
   "execution_count": 8,
   "id": "00728fea",
   "metadata": {},
   "outputs": [
    {
     "name": "stdout",
     "output_type": "stream",
     "text": [
      "Greetings\n"
     ]
    }
   ],
   "source": [
    "spam = 5\n",
    "if spam == 1:\n",
    "    print('Hello')\n",
    "elif spam == 2:\n",
    "    print('Howdy')\n",
    "else:\n",
    "    print('Greetings')"
   ]
  },
  {
   "cell_type": "code",
   "execution_count": null,
   "id": "8171fe5d",
   "metadata": {},
   "outputs": [],
   "source": []
  },
  {
   "cell_type": "markdown",
   "id": "e8a521de",
   "metadata": {},
   "source": [
    "#### Question #9\n",
    "If your programme is stuck in an endless loop, what keys you’ll press?"
   ]
  },
  {
   "cell_type": "code",
   "execution_count": null,
   "id": "316e8fba",
   "metadata": {},
   "outputs": [],
   "source": [
    "Ctrl+C"
   ]
  },
  {
   "cell_type": "markdown",
   "id": "c695654e",
   "metadata": {},
   "source": []
  },
  {
   "cell_type": "markdown",
   "id": "8f93bc85",
   "metadata": {},
   "source": [
    "#### Question #10\n",
    "How can you tell the difference between break and continue?"
   ]
  },
  {
   "cell_type": "markdown",
   "id": "773aa740",
   "metadata": {},
   "source": [
    "break - terminates the execution of the current loop and passes control to the line after the loop </br>\n",
    "continue - stops the current iteration of a loop and executes</br>"
   ]
  },
  {
   "cell_type": "code",
   "execution_count": null,
   "id": "b67e896a",
   "metadata": {},
   "outputs": [],
   "source": []
  },
  {
   "cell_type": "markdown",
   "id": "413a1a3c",
   "metadata": {},
   "source": [
    "#### Question #11\n",
    "In a for loop, what is the difference between range(10), range(0, 10), and range(0, 10, 1)?\n"
   ]
  },
  {
   "cell_type": "markdown",
   "id": "6394601f",
   "metadata": {},
   "source": [
    "No difference. Both are equal"
   ]
  },
  {
   "cell_type": "code",
   "execution_count": 11,
   "id": "014f1322",
   "metadata": {},
   "outputs": [
    {
     "name": "stdout",
     "output_type": "stream",
     "text": [
      "range(10)\n",
      "--------\n",
      "0123456789\n",
      "\n",
      "range(0, 10)\n",
      "--------\n",
      "0123456789\n",
      "\n",
      "range(0, 10, 1)\n",
      "--------\n",
      "0123456789"
     ]
    }
   ],
   "source": [
    "print('range(10)')\n",
    "print('--------')\n",
    "for i in range(10):\n",
    "    print(i, end=\"\")\n",
    "    \n",
    "print('\\n\\nrange(0, 10)')\n",
    "print('--------')\n",
    "for i in range(0, 10):\n",
    "        print(i, end=\"\")\n",
    "        \n",
    "print('\\n\\nrange(0, 10, 1)')\n",
    "print('--------')\n",
    "for i in range(0, 10, 1):\n",
    "        print(i, end=\"\")"
   ]
  },
  {
   "cell_type": "code",
   "execution_count": null,
   "id": "789c6b0b",
   "metadata": {},
   "outputs": [],
   "source": []
  },
  {
   "cell_type": "markdown",
   "id": "4d99ff98",
   "metadata": {},
   "source": [
    "#### Question #12\n",
    "Write a short program that prints the numbers 1 to 10 using a for loop. Then write an equivalent program that prints the numbers 1 to 10 using a while loop"
   ]
  },
  {
   "cell_type": "code",
   "execution_count": 12,
   "id": "b43b175e",
   "metadata": {},
   "outputs": [
    {
     "name": "stdout",
     "output_type": "stream",
     "text": [
      "for loop\n",
      "--------\n",
      "0123456789"
     ]
    }
   ],
   "source": [
    "print('for loop')\n",
    "print('--------')\n",
    "for i in range(0, 10):\n",
    "        print(i, end=\"\")"
   ]
  },
  {
   "cell_type": "code",
   "execution_count": 2,
   "id": "75763373",
   "metadata": {},
   "outputs": [
    {
     "name": "stdout",
     "output_type": "stream",
     "text": [
      "\n",
      "\n",
      "while loop\n",
      "--------\n",
      "0123456789"
     ]
    }
   ],
   "source": [
    "print('\\n\\nwhile loop')\n",
    "print('--------')\n",
    "\n",
    "i = 0\n",
    "while i in range(0, 10):\n",
    "        print(i, end=\"\")\n",
    "        i += 1"
   ]
  },
  {
   "cell_type": "code",
   "execution_count": null,
   "id": "2d0fdea7",
   "metadata": {},
   "outputs": [],
   "source": []
  },
  {
   "cell_type": "markdown",
   "id": "9e13e074",
   "metadata": {},
   "source": [
    "#### Question #13\n",
    "If you had a function named bacon() inside a module named spam, how would you call it after importing spam?"
   ]
  },
  {
   "cell_type": "markdown",
   "id": "efe7ed21",
   "metadata": {},
   "source": [
    "spam.bacon()"
   ]
  },
  {
   "cell_type": "code",
   "execution_count": null,
   "id": "316e569b",
   "metadata": {},
   "outputs": [],
   "source": []
  }
 ],
 "metadata": {
  "kernelspec": {
   "display_name": "Python 3 (ipykernel)",
   "language": "python",
   "name": "python3"
  },
  "language_info": {
   "codemirror_mode": {
    "name": "ipython",
    "version": 3
   },
   "file_extension": ".py",
   "mimetype": "text/x-python",
   "name": "python",
   "nbconvert_exporter": "python",
   "pygments_lexer": "ipython3",
   "version": "3.9.7"
  }
 },
 "nbformat": 4,
 "nbformat_minor": 5
}
