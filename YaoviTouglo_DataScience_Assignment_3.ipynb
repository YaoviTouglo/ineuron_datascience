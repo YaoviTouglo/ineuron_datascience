{
 "cells": [
  {
   "cell_type": "markdown",
   "id": "40356ae5",
   "metadata": {},
   "source": [
    "### Python Assignment #2"
   ]
  },
  {
   "cell_type": "markdown",
   "id": "b4e6695a",
   "metadata": {},
   "source": [
    "#### Question #1\n",
    "Why are functions advantageous to have in your programs?"
   ]
  },
  {
   "cell_type": "markdown",
   "id": "5b6526fd",
   "metadata": {},
   "source": [
    "Function helps organize the code in order to avoid repetitive blocs of codes.</br>\n",
    "Function increases codes readability.</br>\n",
    "Function helps breaking down a complex problem into smaller blocks of solutions.</br>\n",
    "Function reduces errors and helps easily debug the code.</br>"
   ]
  },
  {
   "cell_type": "markdown",
   "id": "39da8451",
   "metadata": {},
   "source": [
    " "
   ]
  },
  {
   "cell_type": "markdown",
   "id": "154bbaa8",
   "metadata": {},
   "source": [
    "#### Question #2\n",
    "When does the code in a function run: when it's specified or when it's called?"
   ]
  },
  {
   "cell_type": "markdown",
   "id": "6aa1019e",
   "metadata": {},
   "source": [
    " The code in a function runs when the function is called. "
   ]
  },
  {
   "cell_type": "markdown",
   "id": "23313121",
   "metadata": {},
   "source": [
    " "
   ]
  },
  {
   "cell_type": "markdown",
   "id": "f28a55fd",
   "metadata": {},
   "source": [
    "#### Question #3\n",
    "What statement creates a function?\n"
   ]
  },
  {
   "attachments": {},
   "cell_type": "markdown",
   "id": "ce2d83c0",
   "metadata": {},
   "source": [
    "def function_name():"
   ]
  },
  {
   "cell_type": "markdown",
   "id": "56fbd5c2",
   "metadata": {},
   "source": [
    "\n"
   ]
  },
  {
   "cell_type": "markdown",
   "id": "43fda8c6",
   "metadata": {},
   "source": [
    "#### Question #4\n",
    ". What is the difference between a function and a function call?"
   ]
  },
  {
   "cell_type": "markdown",
   "id": "70eeb81c",
   "metadata": {},
   "source": [
    "A function is the definition\n",
    "A function call is the execution"
   ]
  },
  {
   "cell_type": "markdown",
   "id": "600255c0",
   "metadata": {},
   "source": [
    "\n"
   ]
  },
  {
   "cell_type": "markdown",
   "id": "28055938",
   "metadata": {},
   "source": [
    "#### Question #5\n",
    "How many global scopes are there in a Python program? How many local scopes?"
   ]
  },
  {
   "cell_type": "markdown",
   "id": "0582969a",
   "metadata": {},
   "source": [
    "There is only one global scope in a Python program.\n",
    "There are as many local scopes as there are functions."
   ]
  },
  {
   "cell_type": "markdown",
   "id": "8ba98a70",
   "metadata": {},
   "source": [
    " "
   ]
  },
  {
   "cell_type": "markdown",
   "id": "5171307e",
   "metadata": {},
   "source": [
    "#### Question #6\n",
    "What happens to variables in a local scope when the function call returns?"
   ]
  },
  {
   "cell_type": "markdown",
   "id": "0646b7a0",
   "metadata": {},
   "source": [
    "When the function call return, the variables in a local scope die."
   ]
  },
  {
   "cell_type": "markdown",
   "id": "a5f1b6fc",
   "metadata": {},
   "source": [
    " "
   ]
  },
  {
   "cell_type": "markdown",
   "id": "de2d487d",
   "metadata": {},
   "source": [
    "#### Question #7\n",
    "What is the concept of a return value? Is it possible to have a return value in an expression?m"
   ]
  },
  {
   "cell_type": "markdown",
   "id": "a2578edc",
   "metadata": {},
   "source": [
    "A return value is the result a function returns to the caller after it executes an operation.\n",
    "\n",
    "Yes, a return value can be an expression."
   ]
  },
  {
   "cell_type": "markdown",
   "id": "219b5026",
   "metadata": {},
   "source": [
    " "
   ]
  },
  {
   "cell_type": "markdown",
   "id": "3c9b064f",
   "metadata": {},
   "source": [
    "#### Question #8\n",
    "If a function does not have a return statement, what is the return value of a call to that function?"
   ]
  },
  {
   "cell_type": "code",
   "execution_count": null,
   "id": "5e2db06d",
   "metadata": {},
   "outputs": [],
   "source": [
    "When a function does not have a return value, the return value of a call to that function will be None."
   ]
  },
  {
   "cell_type": "code",
   "execution_count": 4,
   "id": "a334ca07",
   "metadata": {},
   "outputs": [
    {
     "name": "stdout",
     "output_type": "stream",
     "text": [
      "None\n"
     ]
    }
   ],
   "source": [
    "a = 1000\n",
    "def test():\n",
    "    a=10 + 12\n",
    "    \n",
    "print(test())\n",
    "    "
   ]
  },
  {
   "cell_type": "markdown",
   "id": "e8a521de",
   "metadata": {},
   "source": [
    "#### Question #9\n",
    "How do you make a function variable refer to the global variable?"
   ]
  },
  {
   "cell_type": "code",
   "execution_count": null,
   "id": "316e8fba",
   "metadata": {},
   "outputs": [],
   "source": [
    "use the keyword global"
   ]
  },
  {
   "cell_type": "markdown",
   "id": "c695654e",
   "metadata": {},
   "source": [
    " "
   ]
  },
  {
   "cell_type": "markdown",
   "id": "8f93bc85",
   "metadata": {},
   "source": [
    "#### Question #10\n",
    " What is the data type of None?"
   ]
  },
  {
   "cell_type": "markdown",
   "id": "773aa740",
   "metadata": {},
   "source": [
    " It is a data type that represents a null value or a no value."
   ]
  },
  {
   "cell_type": "markdown",
   "id": "1a28c071",
   "metadata": {},
   "source": [
    " "
   ]
  },
  {
   "cell_type": "markdown",
   "id": "413a1a3c",
   "metadata": {},
   "source": [
    "#### Question #11\n",
    "What does the sentence import areallyourpetsnamederic do?\n"
   ]
  },
  {
   "cell_type": "code",
   "execution_count": null,
   "id": "014f1322",
   "metadata": {},
   "outputs": [],
   "source": [
    "import areallyourpetsnamederic  will allow a Python program to access all the script (code) in areallyourpetsnamederic\n"
   ]
  },
  {
   "cell_type": "markdown",
   "id": "23174090",
   "metadata": {},
   "source": [
    " "
   ]
  },
  {
   "cell_type": "markdown",
   "id": "4d99ff98",
   "metadata": {},
   "source": [
    "#### Question #12\n",
    ". If you had a bacon() feature in a spam module, what would you call it after importing spam?"
   ]
  },
  {
   "cell_type": "markdown",
   "id": "b8f466d4",
   "metadata": {},
   "source": [
    "spam.bacon()"
   ]
  },
  {
   "cell_type": "markdown",
   "id": "e0e650af",
   "metadata": {},
   "source": [
    " "
   ]
  },
  {
   "cell_type": "markdown",
   "id": "9e13e074",
   "metadata": {},
   "source": [
    "#### Question #13\n",
    "What can you do to save a program from crashing if it encounters an error?"
   ]
  },
  {
   "cell_type": "markdown",
   "id": "efe7ed21",
   "metadata": {},
   "source": [
    "we need to handle the exception by using:\n",
    "\n",
    "try:\n",
    "   #some code\n",
    "except:\n",
    "   #block of code to execute if error"
   ]
  },
  {
   "cell_type": "markdown",
   "id": "b5b762b2",
   "metadata": {},
   "source": [
    " "
   ]
  },
  {
   "cell_type": "markdown",
   "id": "453896c1",
   "metadata": {},
   "source": [
    "#### Question #14\n",
    "What is the purpose of the try clause? What is the purpose of the except clause?"
   ]
  },
  {
   "cell_type": "code",
   "execution_count": null,
   "id": "f4ccaa79",
   "metadata": {},
   "outputs": [],
   "source": [
    "try clause will contain the code block to execute when there is no error\n",
    "except clause will contain the code block to execute when there is an error to avoid the code to crash."
   ]
  },
  {
   "cell_type": "code",
   "execution_count": null,
   "id": "470248c5",
   "metadata": {},
   "outputs": [],
   "source": []
  },
  {
   "cell_type": "code",
   "execution_count": null,
   "id": "ee1f1bcd",
   "metadata": {},
   "outputs": [],
   "source": []
  }
 ],
 "metadata": {
  "kernelspec": {
   "display_name": "Python 3 (ipykernel)",
   "language": "python",
   "name": "python3"
  },
  "language_info": {
   "codemirror_mode": {
    "name": "ipython",
    "version": 3
   },
   "file_extension": ".py",
   "mimetype": "text/x-python",
   "name": "python",
   "nbconvert_exporter": "python",
   "pygments_lexer": "ipython3",
   "version": "3.9.7"
  }
 },
 "nbformat": 4,
 "nbformat_minor": 5
}
