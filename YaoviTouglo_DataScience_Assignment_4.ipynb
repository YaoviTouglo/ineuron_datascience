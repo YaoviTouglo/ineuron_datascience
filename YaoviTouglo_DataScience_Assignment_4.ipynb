{
 "cells": [
  {
   "cell_type": "markdown",
   "id": "40356ae5",
   "metadata": {},
   "source": [
    "### Python Assignment #4"
   ]
  },
  {
   "cell_type": "markdown",
   "id": "b4e6695a",
   "metadata": {},
   "source": [
    "#### Question #1 \n",
    "1. What exactly is []?"
   ]
  },
  {
   "cell_type": "code",
   "execution_count": null,
   "id": "b3017f65",
   "metadata": {},
   "outputs": [],
   "source": [
    "It is an empty list valu. It is used to initialize a variable as an empty list."
   ]
  },
  {
   "cell_type": "code",
   "execution_count": 2,
   "id": "c006f0df",
   "metadata": {},
   "outputs": [
    {
     "name": "stdout",
     "output_type": "stream",
     "text": [
      "[]\n",
      "<class 'list'>\n"
     ]
    }
   ],
   "source": [
    "l = []\n",
    "print(l)\n",
    "print(type(l))"
   ]
  },
  {
   "cell_type": "code",
   "execution_count": null,
   "id": "f18573dd",
   "metadata": {},
   "outputs": [],
   "source": []
  },
  {
   "cell_type": "markdown",
   "id": "154bbaa8",
   "metadata": {},
   "source": [
    "#### Question #2 \n",
    "2. In a list of values stored in a variable called spam, how would you assign the value 'hello' as the third value? (Assume [2, 4, 6, 8, 10] are in spam.)"
   ]
  },
  {
   "cell_type": "code",
   "execution_count": 59,
   "id": "281e37f7",
   "metadata": {},
   "outputs": [
    {
     "name": "stdout",
     "output_type": "stream",
     "text": [
      "[2, 4, 'hello', 8, 10]\n"
     ]
    }
   ],
   "source": [
    "spam = [2, 4, 6, 8, 10] \n",
    "spam[2] = 'hello'\n",
    "print(spam)"
   ]
  },
  {
   "cell_type": "markdown",
   "id": "23313121",
   "metadata": {},
   "source": [
    " "
   ]
  },
  {
   "cell_type": "code",
   "execution_count": null,
   "id": "6f51489a",
   "metadata": {},
   "outputs": [],
   "source": []
  },
  {
   "cell_type": "markdown",
   "id": "f28a55fd",
   "metadata": {},
   "source": [
    "Let's pretend the spam includes the list ['a', 'b', 'c', 'd'] for the next three queries.\n",
    "#### Question #3 \n",
    "3. What is the value of spam[int(int('3' * 2) / 11)]?\n",
    "\n",
    "The value is 'd'"
   ]
  },
  {
   "cell_type": "code",
   "execution_count": 4,
   "id": "8da08524",
   "metadata": {},
   "outputs": [
    {
     "name": "stdout",
     "output_type": "stream",
     "text": [
      "d\n"
     ]
    }
   ],
   "source": [
    "spam = ['a', 'b', 'c', 'd']\n",
    "print(spam[int(int('3' * 2) / 11)])\n"
   ]
  },
  {
   "cell_type": "markdown",
   "id": "56fbd5c2",
   "metadata": {},
   "source": []
  },
  {
   "cell_type": "markdown",
   "id": "43fda8c6",
   "metadata": {},
   "source": [
    "#### Question #4 \n",
    "4. What is the value of spam[-1]?\n",
    "\n",
    "the value is 'd'"
   ]
  },
  {
   "cell_type": "code",
   "execution_count": 5,
   "id": "f16584f6",
   "metadata": {},
   "outputs": [
    {
     "name": "stdout",
     "output_type": "stream",
     "text": [
      "d\n"
     ]
    }
   ],
   "source": [
    "print(spam[-1])"
   ]
  },
  {
   "cell_type": "code",
   "execution_count": null,
   "id": "f449d9df",
   "metadata": {},
   "outputs": [],
   "source": []
  },
  {
   "cell_type": "markdown",
   "id": "02916eaf",
   "metadata": {},
   "source": [
    "#### Question #5 \n",
    "5. What is the value of spam[:2]?\n",
    "\n",
    "the value is ['a', 'b']"
   ]
  },
  {
   "cell_type": "code",
   "execution_count": 6,
   "id": "24d3ee8a",
   "metadata": {},
   "outputs": [
    {
     "name": "stdout",
     "output_type": "stream",
     "text": [
      "['a', 'b']\n"
     ]
    }
   ],
   "source": [
    "print(spam[:2])"
   ]
  },
  {
   "cell_type": "code",
   "execution_count": null,
   "id": "dc338c7d",
   "metadata": {},
   "outputs": [],
   "source": []
  },
  {
   "cell_type": "markdown",
   "id": "5171307e",
   "metadata": {},
   "source": [
    "\n",
    "\n",
    "Let's pretend bacon has the list [3.14, 'cat,' 11, 'cat,' True] for the next three questions.\n",
    "\n",
    "#### Question #6\n",
    "6. What is the value of bacon.index('cat')?\n",
    "\n",
    "the value is 1"
   ]
  },
  {
   "cell_type": "code",
   "execution_count": 15,
   "id": "b59c468e",
   "metadata": {},
   "outputs": [
    {
     "name": "stdout",
     "output_type": "stream",
     "text": [
      "1\n"
     ]
    }
   ],
   "source": [
    "bacon = [3.14, 'cat', 11, 'cat', True]\n",
    "print(bacon.index('cat'))"
   ]
  },
  {
   "cell_type": "code",
   "execution_count": null,
   "id": "6987f812",
   "metadata": {},
   "outputs": [],
   "source": []
  },
  {
   "cell_type": "markdown",
   "id": "de2d487d",
   "metadata": {},
   "source": [
    "#### Question #7\n",
    "7. How does bacon.append(99) change the look of the list value in bacon?\n",
    "\n",
    "the value 99 will be added to the end of the list and it will now be [3.14, 'cat', 11, 'cat', True, 99]\n"
   ]
  },
  {
   "cell_type": "code",
   "execution_count": 17,
   "id": "110bc82d",
   "metadata": {},
   "outputs": [
    {
     "name": "stdout",
     "output_type": "stream",
     "text": [
      "[3.14, 'cat', 11, 'cat', True, 99]\n"
     ]
    }
   ],
   "source": [
    "bacon = [3.14, 'cat', 11, 'cat', True]\n",
    "bacon.append(99)\n",
    "print(bacon)\n",
    "    "
   ]
  },
  {
   "cell_type": "code",
   "execution_count": null,
   "id": "602d2816",
   "metadata": {},
   "outputs": [],
   "source": []
  },
  {
   "cell_type": "markdown",
   "id": "3c9b064f",
   "metadata": {},
   "source": [
    "#### Question #8\n",
    "8. How does bacon.remove('cat') change the look of the list in bacon?\n",
    "\n",
    " the first instance of 'cat' will be removed from the list and the list will now be [3.14, 11, 'cat', True]"
   ]
  },
  {
   "cell_type": "code",
   "execution_count": 18,
   "id": "5e2db06d",
   "metadata": {},
   "outputs": [
    {
     "name": "stdout",
     "output_type": "stream",
     "text": [
      "[3.14, 11, 'cat', True]\n"
     ]
    }
   ],
   "source": [
    "bacon = [3.14, 'cat', 11, 'cat', True]\n",
    "bacon.remove('cat')\n",
    "print(bacon)"
   ]
  },
  {
   "cell_type": "code",
   "execution_count": null,
   "id": "8171fe5d",
   "metadata": {},
   "outputs": [],
   "source": []
  },
  {
   "cell_type": "markdown",
   "id": "e8a521de",
   "metadata": {},
   "source": [
    "#### Question #9 \n",
    "9. What are the list concatenation and list replication operators? <br>\n",
    "a) concatenation operator is + <br>\n",
    "b) replication operator is * <br>"
   ]
  },
  {
   "cell_type": "code",
   "execution_count": 20,
   "id": "316e8fba",
   "metadata": {},
   "outputs": [
    {
     "name": "stdout",
     "output_type": "stream",
     "text": [
      "[1, 2, 3, 'x', 'y', 'z']\n",
      "[1, 2, 3, 1, 2, 3, 1, 2, 3]\n"
     ]
    }
   ],
   "source": [
    "a = [1,2,3]\n",
    "b = ['x', 'y', 'z']\n",
    "#concatenation\n",
    "print(a + b)\n",
    "\n",
    "#replication\n",
    "print(a*3)"
   ]
  },
  {
   "cell_type": "code",
   "execution_count": null,
   "id": "6a81c6fc",
   "metadata": {},
   "outputs": [],
   "source": []
  },
  {
   "cell_type": "markdown",
   "id": "c695654e",
   "metadata": {},
   "source": [
    " "
   ]
  },
  {
   "cell_type": "markdown",
   "id": "8f93bc85",
   "metadata": {},
   "source": [
    "#### Question #10 \n",
    "10. What is difference between the list methods append() and insert()?<br>\n",
    "a) append(<value>): will append the value to the nd of the list<br>\n",
    "b) insert(): can add a value in any position in the list <br>"
   ]
  },
  {
   "cell_type": "code",
   "execution_count": 28,
   "id": "32611a15",
   "metadata": {},
   "outputs": [
    {
     "name": "stdout",
     "output_type": "stream",
     "text": [
      "[1, 2, 3, '0000']\n",
      "['x', 'y', 'zzz', 'z']\n"
     ]
    }
   ],
   "source": [
    "x = [1,2,3]\n",
    "y = ['x', 'y', 'z']\n",
    "#append()\n",
    "x.append('0000')\n",
    "print(x)\n",
    "\n",
    "#insert()\n",
    "y.insert(2,'zzz')\n",
    "print(y)"
   ]
  },
  {
   "cell_type": "code",
   "execution_count": null,
   "id": "b67e896a",
   "metadata": {},
   "outputs": [],
   "source": []
  },
  {
   "cell_type": "markdown",
   "id": "413a1a3c",
   "metadata": {},
   "source": [
    "#### Question #11\n",
    "11. What are the two methods for removing items from a list?<br>\n",
    "a) pop() - it accepts the index of the value to remove<br>\n",
    "b) remove() - it accepts the value to remove<br>\n"
   ]
  },
  {
   "cell_type": "code",
   "execution_count": 65,
   "id": "014f1322",
   "metadata": {},
   "outputs": [
    {
     "name": "stdout",
     "output_type": "stream",
     "text": [
      "[5, 7]\n",
      "['a', 'c']\n"
     ]
    }
   ],
   "source": [
    "x2 = [5, 6, 7]\n",
    "y2 = ['a', 'b', 'c']\n",
    "\n",
    "# del statement \n",
    "del x2[1]\n",
    "print(x2)\n",
    "\n",
    "# remove() function\n",
    "y2.remove('b')\n",
    "print(y2)"
   ]
  },
  {
   "cell_type": "code",
   "execution_count": null,
   "id": "789c6b0b",
   "metadata": {},
   "outputs": [],
   "source": []
  },
  {
   "cell_type": "markdown",
   "id": "4d99ff98",
   "metadata": {},
   "source": [
    "#### Question #12\n",
    "12. Describe how list values and string values are identical.\n",
    "\n",
    "List values and string values are identical in that:<br>\n",
    "a) they both are iterables and can be used in a for loop<br>\n",
    "b) they can be used with the in and not in operators<br>\n",
    "c) they have indexes and slices<br>\n",
    "d) they can be concatenated or replicated<br>\n",
    "e) they can be passed to the len() function<br>\n",
    "\n"
   ]
  },
  {
   "cell_type": "code",
   "execution_count": null,
   "id": "2d0fdea7",
   "metadata": {},
   "outputs": [],
   "source": []
  },
  {
   "cell_type": "markdown",
   "id": "9e13e074",
   "metadata": {},
   "source": [
    "#### Question #13\n",
    " 13. What's the difference between tuples and lists?\n",
    " <br> List is dynamic, whereas Tuple is static \n",
    " <br> List is mutable, i.e it can change, whereas Tuple is immutable, i.e it cannot change\n",
    " <br> List has more built-in functions than Tuple\n",
    " <br> List comsumes more memory than Tuple\n",
    " <br> List performs better with insertion and deletion, whereas Tuple performs better with accessing elements"
   ]
  },
  {
   "cell_type": "code",
   "execution_count": null,
   "id": "ffbab43b",
   "metadata": {},
   "outputs": [],
   "source": []
  },
  {
   "cell_type": "markdown",
   "id": "5c9f11a8",
   "metadata": {},
   "source": [
    "#### Question #14\n",
    "14. How do you type a tuple value that only contains the integer 42?<br>\n",
    "t = (42)"
   ]
  },
  {
   "cell_type": "code",
   "execution_count": 40,
   "id": "aeb2271b",
   "metadata": {},
   "outputs": [
    {
     "name": "stdout",
     "output_type": "stream",
     "text": [
      "<class 'tuple'>\n"
     ]
    }
   ],
   "source": [
    "t = (42,)\n",
    "print(type(t))"
   ]
  },
  {
   "cell_type": "code",
   "execution_count": null,
   "id": "bff6fa69",
   "metadata": {},
   "outputs": [],
   "source": []
  },
  {
   "cell_type": "markdown",
   "id": "28810cb4",
   "metadata": {},
   "source": [
    "#### Question #15\n",
    "15. How do you get a list value's tuple form? How do you get a tuple value's list form?<br>\n",
    "\n",
    "a) by using the tuple() function<br>\n",
    "b) by using the list() function\n"
   ]
  },
  {
   "cell_type": "code",
   "execution_count": 58,
   "id": "292462a1",
   "metadata": {},
   "outputs": [
    {
     "name": "stdout",
     "output_type": "stream",
     "text": [
      "[1, 2, 3, 4, 5]  -  <class 'list'>\n",
      "(1, 2, 3, 4, 5)  -  <class 'tuple'>\n",
      "-------------------------------\n",
      "('q', 'w', 'e', 'r', 't', 'y')  -  <class 'tuple'>\n",
      "['q', 'w', 'e', 'r', 't', 'y']  -  <class 'list'>\n"
     ]
    }
   ],
   "source": [
    "# a) tuple form of a list\n",
    "l = [1, 2, 3, 4, 5]\n",
    "t  = tuple(l)\n",
    "print(l, \" - \", type(l))\n",
    "print(t, \" - \", type(t))\n",
    "print(\"-------------------------------\")\n",
    "\n",
    "# b) list form of a tuple \n",
    "t2  = ('q', 'w', 'e', 'r', 't', 'y')\n",
    "l2 =list(t2) \n",
    "print(t2, \" - \", type(t2))\n",
    "\n",
    "print(l2, \" - \", type(l2))\n"
   ]
  },
  {
   "cell_type": "code",
   "execution_count": null,
   "id": "b0ed43f7",
   "metadata": {},
   "outputs": [],
   "source": []
  },
  {
   "cell_type": "markdown",
   "id": "4f52d806",
   "metadata": {},
   "source": [
    "#### Question #16\n",
    "16. Variables that \"contain\" list values are not necessarily lists themselves. Instead, what do they contain?<br>\n",
    "\n",
    "They contains the references of the lists"
   ]
  },
  {
   "cell_type": "code",
   "execution_count": null,
   "id": "b99dfd66",
   "metadata": {},
   "outputs": [],
   "source": []
  },
  {
   "cell_type": "markdown",
   "id": "7b2c7033",
   "metadata": {},
   "source": [
    " \n",
    "#### Question #17\n",
    "\n",
    "17. How do you distinguish between copy.copy() and copy.deepcopy()?<br>\n",
    "\n",
    "copy.copy() and copy.deepcopy() make a duplicate copy of lists and dictionaries, not just their references.\n",
    "But copy.deepcopy() is able to copy the inner lists of a list, but copy.copy() does not."
   ]
  },
  {
   "cell_type": "code",
   "execution_count": null,
   "id": "89472439",
   "metadata": {},
   "outputs": [],
   "source": []
  }
 ],
 "metadata": {
  "kernelspec": {
   "display_name": "Python 3 (ipykernel)",
   "language": "python",
   "name": "python3"
  },
  "language_info": {
   "codemirror_mode": {
    "name": "ipython",
    "version": 3
   },
   "file_extension": ".py",
   "mimetype": "text/x-python",
   "name": "python",
   "nbconvert_exporter": "python",
   "pygments_lexer": "ipython3",
   "version": "3.9.7"
  }
 },
 "nbformat": 4,
 "nbformat_minor": 5
}
